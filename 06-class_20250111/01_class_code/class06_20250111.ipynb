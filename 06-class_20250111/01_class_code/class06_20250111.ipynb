{
  "cells": [
    {
      "cell_type": "markdown",
      "metadata": {
        "id": "WHi5PRPyzdeP"
      },
      "source": [
        "# Membership Operators\n",
        "\n",
        "`in`\n",
        "` not in`\n"
      ]
    },
    {
      "cell_type": "code",
      "execution_count": null,
      "metadata": {
        "id": "UAm-nOV1ycQ9"
      },
      "outputs": [],
      "source": [
        "from typing import List\n",
        "\n",
        "fruits: List[str] = [\"Apple\", \"Banana\"]"
      ]
    },
    {
      "cell_type": "code",
      "execution_count": 5,
      "metadata": {
        "id": "t6FLpOhG0xCt"
      },
      "outputs": [],
      "source": [
        "fruits: list[str] = [\"Apple\", \"Banana\", \"Mango\"]"
      ]
    },
    {
      "cell_type": "code",
      "execution_count": 8,
      "metadata": {
        "colab": {
          "base_uri": "https://localhost:8080/"
        },
        "id": "C8aVFqH207FE",
        "outputId": "11074068-16b7-412e-cbf2-8f0c05064195"
      },
      "outputs": [
        {
          "name": "stdout",
          "output_type": "stream",
          "text": [
            "In the list\n"
          ]
        }
      ],
      "source": [
        "if \"Apple\" in fruits:\n",
        "    print(\"In the list\")"
      ]
    },
    {
      "cell_type": "code",
      "execution_count": 9,
      "metadata": {
        "colab": {
          "base_uri": "https://localhost:8080/"
        },
        "id": "krlT5PRE1UPN",
        "outputId": "c0d6102f-271a-4074-9799-ff7721d314a5"
      },
      "outputs": [
        {
          "name": "stdout",
          "output_type": "stream",
          "text": [
            "Strawberry not in fruits list\n"
          ]
        }
      ],
      "source": [
        "if \"Strawberry\" not in fruits:\n",
        "    print(\"Strawberry not in fruits list\")"
      ]
    },
    {
      "cell_type": "code",
      "execution_count": 10,
      "metadata": {
        "colab": {
          "base_uri": "https://localhost:8080/"
        },
        "id": "wncsMs2q1UKe",
        "outputId": "585b63ae-4f6b-405f-a5b0-083d7d454cbe"
      },
      "outputs": [
        {
          "name": "stdout",
          "output_type": "stream",
          "text": [
            "True\n"
          ]
        }
      ],
      "source": [
        "name: str = \"Rehan\"\n",
        "print('a' in name)"
      ]
    },
    {
      "cell_type": "markdown",
      "metadata": {
        "id": "HXkE_oD91sb0"
      },
      "source": [
        "## Identity Operators\n"
      ]
    },
    {
      "cell_type": "code",
      "execution_count": 11,
      "metadata": {
        "colab": {
          "base_uri": "https://localhost:8080/"
        },
        "id": "lgwhtHoC1x2G",
        "outputId": "3dce3ff6-a448-431d-cff5-eecf4a07f058"
      },
      "outputs": [
        {
          "name": "stdout",
          "output_type": "stream",
          "text": [
            "True\n",
            "False\n"
          ]
        }
      ],
      "source": [
        "# Comparing two variables that point to the same object\n",
        "a = [1, 2, 3]  #\n",
        "b = a\n",
        "print(a is b)  # Output: True\n",
        "\n",
        "# Comparing two variables that point to different objects\n",
        "c = [1, 2, 3]\n",
        "print(a is c)  # Output: False"
      ]
    },
    {
      "cell_type": "code",
      "execution_count": 13,
      "metadata": {
        "colab": {
          "base_uri": "https://localhost:8080/"
        },
        "id": "kD6CNDJS1-tP",
        "outputId": "f9c1fc92-6d57-4bb1-f997-61ac1fabba6b"
      },
      "outputs": [
        {
          "name": "stdout",
          "output_type": "stream",
          "text": [
            "Memory ID of a 133108618224704\n",
            "Memory ID of b 133108618224704\n",
            "Memory ID of c 133108553773312\n"
          ]
        }
      ],
      "source": [
        "print(\"Memory ID of a\", id(a))\n",
        "print(\"Memory ID of b\", id(b))\n",
        "print(\"Memory ID of c\", id(c))"
      ]
    },
    {
      "cell_type": "code",
      "execution_count": 15,
      "metadata": {
        "colab": {
          "base_uri": "https://localhost:8080/"
        },
        "id": "i21hDZq_30BA",
        "outputId": "b0e4e843-cfc6-4e12-fc46-a595ab1a1195"
      },
      "outputs": [
        {
          "name": "stdout",
          "output_type": "stream",
          "text": [
            "Identity False\n",
            "Equality True\n"
          ]
        }
      ],
      "source": [
        "a = [1, 2, 3]\n",
        "c = [1, 2, 3]\n",
        "\n",
        "print(\"Identity\", a is c)\n",
        "\n",
        "print(\"Equality\", a == c)"
      ]
    },
    {
      "cell_type": "code",
      "execution_count": null,
      "metadata": {
        "id": "EdQP6o_c7sP4"
      },
      "outputs": [],
      "source": [
        "student_score = [\n",
        "    [\"Rehan\", 87],\n",
        "    [\"Usman\", 100]\n",
        "]"
      ]
    },
    {
      "cell_type": "markdown",
      "metadata": {
        "id": "rwfjVF0_8ik4"
      },
      "source": [
        "## Dictionary\n",
        "\n",
        "- key, value pair\n"
      ]
    },
    {
      "cell_type": "code",
      "execution_count": null,
      "metadata": {
        "id": "QfbRTEHM82aF"
      },
      "outputs": [],
      "source": [
        "student_score = {\n",
        "    \"Johny\": 87,\n",
        "    \"Mark\": 100\n",
        "}\n",
        "\n",
        "# Keys shall be unique\n",
        "# Keys can be any data type that is immutable\n",
        "# Value cab be any data type"
      ]
    },
    {
      "cell_type": "markdown",
      "metadata": {
        "id": "UpTshzf49qa9"
      },
      "source": [
        "#### string, integer, float, bool\n"
      ]
    },
    {
      "cell_type": "code",
      "execution_count": null,
      "metadata": {
        "id": "52LLsAKE90al"
      },
      "outputs": [],
      "source": [
        "from typing import Any\n",
        "\n",
        "student_score: dict[int, list[int] | dict[str, int]] = {\n",
        "    1: [1, 2, 3, 4, 4],\n",
        "    2: {\"Rehan\": 87},\n",
        "    3: \"Usman\"\n",
        "}\n",
        "\n",
        "# key : value"
      ]
    },
    {
      "cell_type": "code",
      "execution_count": null,
      "metadata": {
        "id": "eSuytt7h-hWZ"
      },
      "outputs": [],
      "source": [
        "# prompt: generate a dictionary of ten students with name and score pair. do not write code, just provide a hardcoded dictionary\n",
        "\n",
        "student_scores: dict[str, int] = {\n",
        "    \"Alice\": 85,\n",
        "    \"Bob\": 92,\n",
        "    \"Charlie\": 78,\n",
        "    \"David\": 95,\n",
        "    \"Eve\": 88,\n",
        "    \"Frank\": 75,\n",
        "    \"Grace\": 90,\n",
        "    \"Helen\": 82,\n",
        "    \"Ivy\": 98,\n",
        "    \"Jack\": 80\n",
        "}"
      ]
    },
    {
      "cell_type": "code",
      "execution_count": null,
      "metadata": {
        "id": "QpWlfflBABqT"
      },
      "outputs": [],
      "source": [
        "student_dict = {\n",
        "    \"Rehan\": 87,\n",
        "    \"Rehan\": 0\n",
        "}"
      ]
    },
    {
      "cell_type": "code",
      "execution_count": null,
      "metadata": {
        "id": "rJM-vQmPAKTc"
      },
      "outputs": [],
      "source": [
        "(Tuples)\n",
        "[List]\n",
        "{Dictionary}"
      ]
    },
    {
      "cell_type": "code",
      "execution_count": null,
      "metadata": {
        "id": "oH6_Hf_nCVNm"
      },
      "outputs": [],
      "source": [
        "total_score: int = 32\n",
        "\n",
        "\n",
        "total_score = \"Rehan\""
      ]
    },
    {
      "cell_type": "code",
      "execution_count": 23,
      "metadata": {
        "colab": {
          "base_uri": "https://localhost:8080/"
        },
        "id": "EfqOByn9DkCH",
        "outputId": "53695710-4b5c-498a-ab76-7368d358077e"
      },
      "outputs": [
        {
          "name": "stdout",
          "output_type": "stream",
          "text": [
            "0\n",
            "0\n"
          ]
        }
      ],
      "source": [
        "student_dict = {\n",
        "    \"Rehan\": 87,\n",
        "    \"Rehan\": 50,\n",
        "    \"Rehan\": 0,\n",
        "}\n",
        "\n",
        "# print(dir(student_dict))\n",
        "print(student_dict[\"Rehan\"])\n",
        "print(student_dict.get(\"Rehan\"))"
      ]
    },
    {
      "cell_type": "code",
      "execution_count": 18,
      "metadata": {
        "colab": {
          "base_uri": "https://localhost:8080/"
        },
        "id": "g2XpUIW7Dyda",
        "outputId": "e7f91e2b-e3be-4aee-987c-e36afe8820fe"
      },
      "outputs": [
        {
          "name": "stdout",
          "output_type": "stream",
          "text": [
            "88\n",
            "88\n"
          ]
        }
      ],
      "source": [
        "# accessing values\n",
        "\n",
        "student_scores: dict[str, int] = {\n",
        "    \"Alice\": 85,\n",
        "    \"Bob\": 92,\n",
        "    \"Charlie\": 78,\n",
        "    \"David\": 95,\n",
        "    \"Eve\": 88,\n",
        "    \"Frank\": 75,\n",
        "    \"Grace\": 90,\n",
        "    \"Helen\": 82,\n",
        "    \"Ivy\": 98,\n",
        "    \"Jack\": 80\n",
        "}\n",
        "\n",
        "print(student_scores[\"Eve\"])\n",
        "\n",
        "print(student_scores.get(\"Eve\"))"
      ]
    },
    {
      "cell_type": "code",
      "execution_count": 19,
      "metadata": {
        "colab": {
          "base_uri": "https://localhost:8080/",
          "height": 141
        },
        "id": "QHA74fJwE83t",
        "outputId": "e5f7a6d2-8009-471b-dd2c-77fe5ed661e7"
      },
      "outputs": [
        {
          "ename": "KeyError",
          "evalue": "'Rehan'",
          "output_type": "error",
          "traceback": [
            "\u001b[0;31m---------------------------------------------------------------------------\u001b[0m",
            "\u001b[0;31mKeyError\u001b[0m                                  Traceback (most recent call last)",
            "\u001b[0;32m<ipython-input-19-d920b81ba3fe>\u001b[0m in \u001b[0;36m<cell line: 1>\u001b[0;34m()\u001b[0m\n\u001b[0;32m----> 1\u001b[0;31m \u001b[0mprint\u001b[0m\u001b[0;34m(\u001b[0m\u001b[0mstudent_scores\u001b[0m\u001b[0;34m[\u001b[0m\u001b[0;34m\"Rehan\"\u001b[0m\u001b[0;34m]\u001b[0m\u001b[0;34m)\u001b[0m\u001b[0;34m\u001b[0m\u001b[0;34m\u001b[0m\u001b[0m\n\u001b[0m",
            "\u001b[0;31mKeyError\u001b[0m: 'Rehan'"
          ]
        }
      ],
      "source": [
        "print(student_scores[\"Rehan\"])"
      ]
    },
    {
      "cell_type": "code",
      "execution_count": 22,
      "metadata": {
        "colab": {
          "base_uri": "https://localhost:8080/"
        },
        "id": "YSsreCDeFOHe",
        "outputId": "9557ac99-c093-4f1b-f498-a32e9bf4c94b"
      },
      "outputs": [
        {
          "name": "stdout",
          "output_type": "stream",
          "text": [
            "None\n"
          ]
        }
      ],
      "source": [
        "print(student_scores.get(\"Rehan\"))"
      ]
    },
    {
      "cell_type": "code",
      "execution_count": 25,
      "metadata": {
        "colab": {
          "base_uri": "https://localhost:8080/"
        },
        "id": "v0us_q3QGjW6",
        "outputId": "6b2c6d86-6c3d-49ce-a065-b20130e74728"
      },
      "outputs": [
        {
          "name": "stdout",
          "output_type": "stream",
          "text": [
            "['__class__', '__class_getitem__', '__contains__', '__delattr__', '__delitem__', '__dir__', '__doc__', '__eq__', '__format__', '__ge__', '__getattribute__', '__getitem__', '__gt__', '__hash__', '__init__', '__init_subclass__', '__ior__', '__iter__', '__le__', '__len__', '__lt__', '__ne__', '__new__', '__or__', '__reduce__', '__reduce_ex__', '__repr__', '__reversed__', '__ror__', '__setattr__', '__setitem__', '__sizeof__', '__str__', '__subclasshook__', 'clear', 'copy', 'fromkeys', 'get', 'items', 'keys', 'pop', 'popitem', 'setdefault', 'update', 'values']\n"
          ]
        }
      ],
      "source": [
        "print(dir(dict))"
      ]
    },
    {
      "cell_type": "code",
      "execution_count": null,
      "metadata": {
        "id": "60cfxs6uGY9X"
      },
      "outputs": [],
      "source": []
    }
  ],
  "metadata": {
    "colab": {
      "provenance": []
    },
    "kernelspec": {
      "display_name": "Python 3",
      "name": "python3"
    },
    "language_info": {
      "name": "python"
    }
  },
  "nbformat": 4,
  "nbformat_minor": 0
}
