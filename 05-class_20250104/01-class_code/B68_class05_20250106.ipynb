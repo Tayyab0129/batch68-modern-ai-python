{
  "cells": [
    {
      "cell_type": "markdown",
      "metadata": {
        "id": "tvI76N1CstOc"
      },
      "source": [
        "# Class 05\n",
        "- `dir() type() id() `\n",
        "- Nested List\n",
        "- Comparison Operators\n",
        "-"
      ]
    },
    {
      "cell_type": "code",
      "execution_count": 1,
      "metadata": {
        "colab": {
          "base_uri": "https://localhost:8080/"
        },
        "id": "vRDPh9cTsrrH",
        "outputId": "04b71b61-30fc-4a93-d3dc-758503430936"
      },
      "outputs": [
        {
          "name": "stdout",
          "output_type": "stream",
          "text": [
            "133703084651632\n"
          ]
        }
      ],
      "source": [
        "name : str = \"Rehan\"\n",
        "\n",
        "print(id(name))"
      ]
    },
    {
      "cell_type": "code",
      "execution_count": 2,
      "metadata": {
        "colab": {
          "base_uri": "https://localhost:8080/"
        },
        "id": "GwiKYj_ltwpG",
        "outputId": "3f58c747-36b1-477a-cde1-6c1178016122"
      },
      "outputs": [
        {
          "name": "stdout",
          "output_type": "stream",
          "text": [
            " Address of List 133702042699456\n",
            " Address of first item of List 133703084651632\n"
          ]
        }
      ],
      "source": [
        "names: list[str] = [\"Rehan\"]\n",
        "\n",
        "print(f' Address of List {id(names)}')\n",
        "\n",
        "print(f' Address of first item of List {id(names[0])}')"
      ]
    },
    {
      "cell_type": "code",
      "execution_count": 6,
      "metadata": {
        "colab": {
          "base_uri": "https://localhost:8080/"
        },
        "id": "CzAZ7fuHvc9T",
        "outputId": "60c62f8d-d3a5-4caa-f2de-c93637f54f1b"
      },
      "outputs": [
        {
          "name": "stdout",
          "output_type": "stream",
          "text": [
            "['Rehan', 85, 90, 87]\n",
            "Usman\n"
          ]
        }
      ],
      "source": [
        "student_grades = [\n",
        "    [\"Rehan\", 85, 90, 87], # first element 0 index\n",
        "    [\"Usman\", 83, 95, 92], # index 1\n",
        "    ]\n",
        "\n",
        "print(student_grades[0])\n",
        "\n",
        "print(student_grades[1][0])"
      ]
    },
    {
      "cell_type": "code",
      "execution_count": 10,
      "metadata": {
        "colab": {
          "base_uri": "https://localhost:8080/"
        },
        "id": "WoWSbstPyLht",
        "outputId": "889f1aa7-570a-4ce7-dd09-40e2ff566aa0"
      },
      "outputs": [
        {
          "name": "stdout",
          "output_type": "stream",
          "text": [
            "[['Rehan', 85, 90, 87], ['Usman', 83, 95, 92]]\n",
            "[['Rehan', 85, 90, 87]]\n"
          ]
        }
      ],
      "source": [
        "print(student_grades)\n",
        "print(student_grades[0:-1])"
      ]
    },
    {
      "cell_type": "markdown",
      "metadata": {
        "id": "ju5aCItMy3xB"
      },
      "source": [
        "## Control Flows\n",
        "### Comparison Operators"
      ]
    },
    {
      "cell_type": "code",
      "execution_count": 12,
      "metadata": {
        "colab": {
          "base_uri": "https://localhost:8080/"
        },
        "id": "WgcG6c5r0HvL",
        "outputId": "4448e024-e8c6-4569-f5d0-5c0764c7bd2f"
      },
      "outputs": [
        {
          "name": "stdout",
          "output_type": "stream",
          "text": [
            "False\n"
          ]
        }
      ],
      "source": [
        "# Equality check ==\n",
        "print(5==6)"
      ]
    },
    {
      "cell_type": "code",
      "execution_count": 14,
      "metadata": {
        "colab": {
          "base_uri": "https://localhost:8080/"
        },
        "id": "OJ17cMxe0rwy",
        "outputId": "ab577e1e-76f7-4dbe-91cd-1020d5b7e1d9"
      },
      "outputs": [
        {
          "name": "stdout",
          "output_type": "stream",
          "text": [
            "True\n",
            "False\n"
          ]
        }
      ],
      "source": [
        "print(5 == 5)\n",
        "print(5 == '5')\n"
      ]
    },
    {
      "cell_type": "code",
      "execution_count": 15,
      "metadata": {
        "colab": {
          "base_uri": "https://localhost:8080/"
        },
        "id": "_LQapzQJ0_PO",
        "outputId": "f24d946d-04c8-44b9-c847-32f84be950a1"
      },
      "outputs": [
        {
          "name": "stdout",
          "output_type": "stream",
          "text": [
            "True\n",
            "False\n"
          ]
        }
      ],
      "source": [
        "# !=\n",
        "print(5 != 6)\n",
        "print(5 != 5)"
      ]
    },
    {
      "cell_type": "code",
      "execution_count": 17,
      "metadata": {
        "colab": {
          "base_uri": "https://localhost:8080/"
        },
        "id": "0UJovLpP1Veh",
        "outputId": "7a4e63c3-d515-42b9-886a-344ce049c822"
      },
      "outputs": [
        {
          "name": "stdout",
          "output_type": "stream",
          "text": [
            "False\n"
          ]
        }
      ],
      "source": [
        "name_1 = \"Rehan\"\n",
        "name_2 = \"rehan\"\n",
        "\n",
        "print(name_1 == name_2)"
      ]
    },
    {
      "cell_type": "code",
      "execution_count": 18,
      "metadata": {
        "colab": {
          "base_uri": "https://localhost:8080/"
        },
        "id": "gDzISxCI2Hg2",
        "outputId": "85271b1a-db1f-4bb6-a883-97542b86a154"
      },
      "outputs": [
        {
          "name": "stdout",
          "output_type": "stream",
          "text": [
            "Enter first number: 10\n",
            "Enter second number: 12\n",
            "True\n",
            "False\n"
          ]
        }
      ],
      "source": [
        "# <\n",
        "# >\n",
        "\n",
        "number_1 = int(input(\"Enter first number: \"))\n",
        "number_2 = int(input(\"Enter second number: \"))\n",
        "\n",
        "print(number_1 < number_2)\n",
        "\n",
        "print(number_1 > number_2)\n"
      ]
    },
    {
      "cell_type": "code",
      "execution_count": 20,
      "metadata": {
        "colab": {
          "base_uri": "https://localhost:8080/"
        },
        "id": "3VmgdhZA22_P",
        "outputId": "3dc16faf-c8ec-4803-fae6-351cb0af97b4"
      },
      "outputs": [
        {
          "name": "stdout",
          "output_type": "stream",
          "text": [
            "Enter first number: 12\n",
            "Enter second number: 13\n",
            "True\n",
            "False\n"
          ]
        }
      ],
      "source": [
        "# <=  any_number <= 6  (any_number = 6)\n",
        "# >=\n",
        "\n",
        "number_1 = int(input(\"Enter first number: \"))\n",
        "number_2 = int(input(\"Enter second number: \"))\n",
        "\n",
        "print(number_1 <= number_2)\n",
        "\n",
        "print(number_1 >= number_2)"
      ]
    },
    {
      "cell_type": "markdown",
      "metadata": {
        "id": "_9bJ1KEh4Uoa"
      },
      "source": [
        "- if\n",
        "- if-else\n",
        "- if-elif-elif-else"
      ]
    },
    {
      "cell_type": "markdown",
      "metadata": {
        "id": "Are884at57UP"
      },
      "source": [
        "**Allot CNIC to user with age 18 above**\n",
        "\n",
        "*Steps:*\n",
        "1- Ask age from the user\n",
        "\n",
        "2- Store age in variable\n",
        "\n",
        "3- Check user age with requirement -\n",
        "\n",
        "4- Allow or disallow"
      ]
    },
    {
      "cell_type": "code",
      "execution_count": 24,
      "metadata": {
        "colab": {
          "base_uri": "https://localhost:8080/"
        },
        "id": "FkK7cwrZ4ouZ",
        "outputId": "2af64a47-52f7-4966-9531-8fc4ec26a3b5"
      },
      "outputs": [
        {
          "name": "stdout",
          "output_type": "stream",
          "text": [
            "Enter your age: 12\n",
            "Wait for 18\n"
          ]
        }
      ],
      "source": [
        "age : int = int(input(\"Enter your age: \"))\n",
        "\n",
        "\n",
        "if age >= 18:    # if evaluate to True\n",
        "    print (\"CNIC will be issued\")\n",
        "else:\n",
        "    print(\"Wait for 18\")\n",
        "\n"
      ]
    },
    {
      "cell_type": "markdown",
      "metadata": {
        "id": "Yux6XaPc-RJE"
      },
      "source": [
        "### Multiple conidtions but independent\n",
        "0 to 6 (Birth Certificate) --> 7 to 17 (Domicile)  --> 18 or above (CNIC)"
      ]
    },
    {
      "cell_type": "code",
      "execution_count": 31,
      "metadata": {
        "colab": {
          "base_uri": "https://localhost:8080/"
        },
        "id": "9JbmUncJ8COr",
        "outputId": "de491ba2-ce47-4993-c6b2-c519191f273d"
      },
      "outputs": [
        {
          "name": "stdout",
          "output_type": "stream",
          "text": [
            "Enter your age: 5\n",
            "Issue birth certificate\n"
          ]
        }
      ],
      "source": [
        "age : int = int(input(\"Enter your age: \"))\n",
        "\n",
        "if 0 <= age <= 6:\n",
        "    print(\"Issue birth certificate\")\n",
        "elif 7 <= age <= 17:   # 7,....17 evaluates to True\n",
        "    print(\"Issue domicile\")\n",
        "elif age >= 18:\n",
        "    print(\"Issue CNINC\")\n",
        "else:\n",
        "    print(\"Sorry of inconvenience\")"
      ]
    },
    {
      "cell_type": "markdown",
      "metadata": {
        "id": "FrOaN5hlCiMM"
      },
      "source": [
        "### Falsy Values\n",
        "- 0\n",
        "- empty string\n",
        "- False\n",
        "- empty list\n",
        "- empty dictionary\n",
        "- empty set and so on"
      ]
    },
    {
      "cell_type": "code",
      "execution_count": null,
      "metadata": {
        "id": "DtAMtQoIDz32"
      },
      "outputs": [],
      "source": [
        "value : float = 0.0\n",
        "\n",
        "if value:\n",
        "    print(\"This is true\")\n",
        "else:\n",
        "    print(\"This is falsy value, evaluated to False\")"
      ]
    },
    {
      "cell_type": "code",
      "execution_count": 41,
      "metadata": {
        "colab": {
          "base_uri": "https://localhost:8080/"
        },
        "id": "nkUFOFFHC5H6",
        "outputId": "171b6268-8583-406a-f5ac-992b5a438942"
      },
      "outputs": [
        {
          "name": "stdout",
          "output_type": "stream",
          "text": [
            "This is true\n"
          ]
        }
      ],
      "source": [
        "value : str = \"\"\n",
        "\n",
        "if value:\n",
        "    print(\"This is true\")\n",
        "else:\n",
        "    print(\"This is falsy value, evaluated to False\")"
      ]
    },
    {
      "cell_type": "code",
      "execution_count": 42,
      "metadata": {
        "colab": {
          "base_uri": "https://localhost:8080/"
        },
        "id": "b7CzXJM3D38S",
        "outputId": "ca39422f-3c64-4745-8752-5296c9baa428"
      },
      "outputs": [
        {
          "name": "stdout",
          "output_type": "stream",
          "text": [
            "This is falsy value, evaluated to False\n"
          ]
        }
      ],
      "source": [
        "value : list = []\n",
        "\n",
        "if value:\n",
        "    print(\"This is true\")\n",
        "else:\n",
        "    print(\"This is falsy value, evaluated to False\")"
      ]
    },
    {
      "cell_type": "code",
      "execution_count": 36,
      "metadata": {
        "colab": {
          "base_uri": "https://localhost:8080/"
        },
        "id": "_0qYUp84BtM6",
        "outputId": "48ab17fd-9b29-4859-bb3b-cd024f72df6a"
      },
      "outputs": [
        {
          "name": "stdout",
          "output_type": "stream",
          "text": [
            "hello\n"
          ]
        }
      ],
      "source": [
        "name = \"Rehan\"\n",
        "\n",
        "if name:\n",
        "    print(\"hello\")\n",
        "elif name:\n",
        "    print(\"hi\")"
      ]
    },
    {
      "cell_type": "markdown",
      "metadata": {
        "id": "151VG2FmEIw4"
      },
      "source": [
        "### Mutiple conditions but dependent"
      ]
    },
    {
      "cell_type": "code",
      "execution_count": 45,
      "metadata": {
        "colab": {
          "base_uri": "https://localhost:8080/"
        },
        "id": "lS4jyJOQEIin",
        "outputId": "0a9fc96c-a04e-44b6-95cf-ab7d9799f667"
      },
      "outputs": [
        {
          "name": "stdout",
          "output_type": "stream",
          "text": [
            "Enter your nationality: INDIAN\n",
            "Nadra only issues CINIC for Pakistanis\n"
          ]
        }
      ],
      "source": [
        "nationality : str = input(\"Enter your nationality: \")\n",
        "\n",
        "if nationality.lower() == 'pakistan':\n",
        "    age : int = int(input(\"Enter your age: \"))\n",
        "\n",
        "    if age >= 18:\n",
        "        print(\"CNIC Issues\")\n",
        "    else:\n",
        "        print(\"Wait for 18\")\n",
        "\n",
        "else:\n",
        "    print(\"Nadra only issues CINIC for Pakistanis\")\n"
      ]
    },
    {
      "cell_type": "markdown",
      "metadata": {
        "id": "aMZtDcjdQN2h"
      },
      "source": [
        "## Logical Operators\n",
        "\n",
        "`and` `or` `not`\n",
        "\n",
        "*Do check the notes for detailed explanation*"
      ]
    },
    {
      "cell_type": "code",
      "execution_count": 48,
      "metadata": {
        "colab": {
          "base_uri": "https://localhost:8080/"
        },
        "id": "z7PV6EOvQROR",
        "outputId": "bb62d6da-7057-4447-9d4f-09d696141602"
      },
      "outputs": [
        {
          "name": "stdout",
          "output_type": "stream",
          "text": [
            "else block executed\n"
          ]
        }
      ],
      "source": [
        "name = 'Rehan'\n",
        "age = 6\n",
        "\n",
        "# and shall evaluates to True if both conditions evaluate to True\n",
        "#       True   and  False   --> False\n",
        "if name == 'Rehan' and age > 4:\n",
        "    print (\"If block executed\")\n",
        "else:\n",
        "    print(\"else block executed\")"
      ]
    },
    {
      "cell_type": "code",
      "execution_count": 52,
      "metadata": {
        "colab": {
          "base_uri": "https://localhost:8080/"
        },
        "id": "WREsD2RJUzE5",
        "outputId": "46f5d6b7-5435-4f71-ca1c-162d18a5b53d"
      },
      "outputs": [
        {
          "name": "stdout",
          "output_type": "stream",
          "text": [
            "else block executed\n"
          ]
        }
      ],
      "source": [
        "name = 'Rehan'\n",
        "age = 2\n",
        "\n",
        "# and shall evaluates to True if both conditions evaluate to True\n",
        "#       True   and  False   --> False\n",
        "if name == 'Rean' or age > 4:\n",
        "    print(f\"First condition: {name == 'Rehan'}, Second cond: {age > 4}\")\n",
        "    print (\"If block executed\")\n",
        "else:\n",
        "    print(\"else block executed\")"
      ]
    },
    {
      "cell_type": "code",
      "execution_count": 56,
      "metadata": {
        "colab": {
          "base_uri": "https://localhost:8080/"
        },
        "id": "FfajzTHRVRDH",
        "outputId": "be5b5073-422c-440d-b118-bb18041cd47b"
      },
      "outputs": [
        {
          "name": "stdout",
          "output_type": "stream",
          "text": [
            "First condition: False\n",
            "If block executed\n"
          ]
        }
      ],
      "source": [
        "name = 'Rehan'\n",
        "age = 2\n",
        "\n",
        "# and shall evaluates to True if both conditions evaluate to True\n",
        "#       True   and  False   --> False\n",
        "if not name == 'Rhan':\n",
        "    print(f\"First condition: {name == 'Rhan'}\")\n",
        "    print (\"If block executed\")\n",
        "else:\n",
        "    print(\"else block executed\")"
      ]
    },
    {
      "cell_type": "markdown",
      "metadata": {
        "id": "jfpretTnpZGi"
      },
      "source": [
        "#### Ternary Operator\n",
        "Storing a value in variable after testing a condition"
      ]
    },
    {
      "cell_type": "code",
      "execution_count": 57,
      "metadata": {
        "colab": {
          "base_uri": "https://localhost:8080/"
        },
        "id": "ALKf05jIVSfC",
        "outputId": "68601541-ec8a-4495-85c6-7c2eacd27768"
      },
      "outputs": [
        {
          "name": "stdout",
          "output_type": "stream",
          "text": [
            "Store else message\n"
          ]
        }
      ],
      "source": [
        "# Ternary Operator\n",
        "message : str = \"store if message\" if 2 > 3 else \"Store else message\"\n",
        "print(message)"
      ]
    }
  ],
  "metadata": {
    "colab": {
      "provenance": []
    },
    "kernelspec": {
      "display_name": "Python 3",
      "name": "python3"
    },
    "language_info": {
      "name": "python"
    }
  },
  "nbformat": 4,
  "nbformat_minor": 0
}
