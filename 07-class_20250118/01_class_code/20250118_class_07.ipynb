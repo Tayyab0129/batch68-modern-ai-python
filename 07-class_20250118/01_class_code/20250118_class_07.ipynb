{
  "cells": [
    {
      "cell_type": "markdown",
      "metadata": {
        "id": "6S3YyEt1V1JV"
      },
      "source": [
        "## Basics of Fucntions in python"
      ]
    },
    {
      "cell_type": "code",
      "execution_count": null,
      "metadata": {
        "colab": {
          "base_uri": "https://localhost:8080/"
        },
        "id": "2xFIm63d-vT4",
        "outputId": "6fdea7c3-a5aa-4a81-e615-f2451df32a43"
      },
      "outputs": [
        {
          "name": "stdout",
          "output_type": "stream",
          "text": [
            "hello world\n"
          ]
        }
      ],
      "source": [
        "print(\"hello world\")"
      ]
    },
    {
      "cell_type": "code",
      "execution_count": null,
      "metadata": {
        "id": "NBoOz3d__Wkd"
      },
      "outputs": [],
      "source": [
        "print(\"\")"
      ]
    },
    {
      "cell_type": "code",
      "execution_count": null,
      "metadata": {
        "id": "ioBKBpxg_8dj"
      },
      "outputs": [],
      "source": [
        "def add (a, b):\n",
        "    result = a + b\n",
        "    return result"
      ]
    },
    {
      "cell_type": "code",
      "execution_count": null,
      "metadata": {
        "colab": {
          "base_uri": "https://localhost:8080/"
        },
        "id": "ZVo3az_wAFwq",
        "outputId": "12e85b3b-3fa6-45de-9b97-e1d6de52d665"
      },
      "outputs": [
        {
          "name": "stdout",
          "output_type": "stream",
          "text": [
            "30\n"
          ]
        }
      ],
      "source": [
        "result = add(10, 20)\n",
        "print(result)"
      ]
    },
    {
      "cell_type": "code",
      "execution_count": null,
      "metadata": {
        "id": "HWi85AGRAjtx"
      },
      "outputs": [],
      "source": [
        "def greet():\n",
        "    print(\"hello\")\n"
      ]
    },
    {
      "cell_type": "code",
      "execution_count": null,
      "metadata": {
        "colab": {
          "base_uri": "https://localhost:8080/"
        },
        "id": "A09Y_RJHBRnT",
        "outputId": "a3599bce-c4ea-441a-e8d6-1a69423b1f17"
      },
      "outputs": [
        {
          "name": "stdout",
          "output_type": "stream",
          "text": [
            "hello\n"
          ]
        }
      ],
      "source": [
        "greet()"
      ]
    },
    {
      "cell_type": "code",
      "execution_count": null,
      "metadata": {
        "colab": {
          "base_uri": "https://localhost:8080/"
        },
        "id": "7EtDyRXjBn71",
        "outputId": "aee33372-f256-4676-8b71-e82eed6ac9f2"
      },
      "outputs": [
        {
          "name": "stdout",
          "output_type": "stream",
          "text": [
            "hello\n",
            "None\n"
          ]
        }
      ],
      "source": [
        "result = greet()\n",
        "print(result)\n"
      ]
    },
    {
      "cell_type": "code",
      "execution_count": null,
      "metadata": {
        "id": "dPv_BJuRCczI"
      },
      "outputs": [],
      "source": [
        "def greet():\n",
        "    print(\"Something is happending\")\n",
        "    return \"hello\""
      ]
    },
    {
      "cell_type": "markdown",
      "metadata": {
        "id": "VaIoCHkiGVW7"
      },
      "source": [
        "Something is happending"
      ]
    },
    {
      "cell_type": "code",
      "execution_count": null,
      "metadata": {
        "id": "_ptU6iLlGQQH"
      },
      "outputs": [],
      "source": []
    },
    {
      "cell_type": "code",
      "execution_count": null,
      "metadata": {
        "colab": {
          "base_uri": "https://localhost:8080/"
        },
        "id": "BuNYnxfyClK3",
        "outputId": "a66dffe9-76e9-48eb-e9e8-7a896dcd45a9"
      },
      "outputs": [
        {
          "name": "stdout",
          "output_type": "stream",
          "text": [
            "Something is happending\n",
            "-------------\n"
          ]
        }
      ],
      "source": [
        "greet()\n",
        "print(\"-------------\")"
      ]
    },
    {
      "cell_type": "code",
      "execution_count": null,
      "metadata": {
        "colab": {
          "base_uri": "https://localhost:8080/"
        },
        "id": "CMMsVq1lDNXt",
        "outputId": "3cf7bbfc-6ce0-4186-84e7-7ac392f57c26"
      },
      "outputs": [
        {
          "name": "stdout",
          "output_type": "stream",
          "text": [
            "Something is happending\n",
            "hello\n"
          ]
        }
      ],
      "source": [
        "result = greet() # hello\n",
        "\n",
        "\n",
        "print(result)\n"
      ]
    },
    {
      "cell_type": "code",
      "execution_count": null,
      "metadata": {
        "id": "nZvyUHWOFwCz"
      },
      "outputs": [],
      "source": [
        "name = \"Reahn\"\n",
        "name\n",
        "a = 5"
      ]
    },
    {
      "cell_type": "code",
      "execution_count": null,
      "metadata": {
        "id": "xHdu0nKaGvoX"
      },
      "outputs": [],
      "source": [
        "def addition ():\n",
        "    a = 10\n",
        "    b = 20\n",
        "    result = a + b\n",
        "    return result"
      ]
    },
    {
      "cell_type": "code",
      "execution_count": null,
      "metadata": {
        "colab": {
          "base_uri": "https://localhost:8080/"
        },
        "id": "laGnktVcHBEa",
        "outputId": "3d9e5b7a-fa30-41cc-a708-3b2ca0e67f69"
      },
      "outputs": [
        {
          "name": "stdout",
          "output_type": "stream",
          "text": [
            "I am using here 30\n"
          ]
        }
      ],
      "source": [
        "some_result = addition()\n",
        "print(f\"I am using here {some_result}\")\n"
      ]
    },
    {
      "cell_type": "code",
      "execution_count": null,
      "metadata": {
        "colab": {
          "base_uri": "https://localhost:8080/"
        },
        "id": "My3JWKYfHo0C",
        "outputId": "92ac0e00-e3e7-4296-bd51-e02a5ef6016e"
      },
      "outputs": [
        {
          "name": "stdout",
          "output_type": "stream",
          "text": [
            "I am using here 30\n"
          ]
        }
      ],
      "source": [
        "# some_result = addition()\n",
        "print(f\"I am using here {addition()}\")"
      ]
    },
    {
      "cell_type": "code",
      "execution_count": null,
      "metadata": {
        "id": "SQ_nkGz_Imo3"
      },
      "outputs": [],
      "source": [
        "def addition ():\n",
        "    a = 10\n",
        "    b = 20\n",
        "    result = a + b"
      ]
    },
    {
      "cell_type": "code",
      "execution_count": null,
      "metadata": {
        "colab": {
          "base_uri": "https://localhost:8080/"
        },
        "id": "DD9ASme6Io26",
        "outputId": "57068902-1446-4b64-ef77-5951d814a1df"
      },
      "outputs": [
        {
          "name": "stdout",
          "output_type": "stream",
          "text": [
            "I am using here None\n"
          ]
        }
      ],
      "source": [
        "print(f\"I am using here {addition()}\")"
      ]
    },
    {
      "cell_type": "code",
      "execution_count": null,
      "metadata": {
        "id": "3_w6UGdxKFUe"
      },
      "outputs": [],
      "source": []
    },
    {
      "cell_type": "code",
      "execution_count": null,
      "metadata": {
        "id": "_zNPg8w_KQRn"
      },
      "outputs": [],
      "source": [
        "def greet_01 ():\n",
        "    return \"Hello\""
      ]
    },
    {
      "cell_type": "code",
      "execution_count": null,
      "metadata": {
        "colab": {
          "base_uri": "https://localhost:8080/"
        },
        "id": "Jueo0sWlKZGR",
        "outputId": "fc886185-7be5-4b6c-e250-4bcc254b0f6c"
      },
      "outputs": [
        {
          "name": "stdout",
          "output_type": "stream",
          "text": [
            "Hello\n"
          ]
        }
      ],
      "source": [
        "print(f\"{greet_01()}\")"
      ]
    },
    {
      "cell_type": "code",
      "execution_count": null,
      "metadata": {
        "id": "btL8MjYhKx_t"
      },
      "outputs": [],
      "source": [
        "def greet_02(student_name):\n",
        "    return f\"Hello {student_name}\""
      ]
    },
    {
      "cell_type": "code",
      "execution_count": null,
      "metadata": {
        "colab": {
          "base_uri": "https://localhost:8080/",
          "height": 144
        },
        "id": "1aDLJdxgMcJv",
        "outputId": "aae39bef-cb9b-4274-e3a5-b03aee298e17"
      },
      "outputs": [
        {
          "ename": "TypeError",
          "evalue": "greet_02() missing 1 required positional argument: 'student_name'",
          "output_type": "error",
          "traceback": [
            "\u001b[0;31m---------------------------------------------------------------------------\u001b[0m",
            "\u001b[0;31mTypeError\u001b[0m                                 Traceback (most recent call last)",
            "\u001b[0;32m<ipython-input-30-d26c8ee51aed>\u001b[0m in \u001b[0;36m<cell line: 0>\u001b[0;34m()\u001b[0m\n\u001b[0;32m----> 1\u001b[0;31m \u001b[0mprint\u001b[0m\u001b[0;34m(\u001b[0m\u001b[0mgreet_02\u001b[0m\u001b[0;34m(\u001b[0m\u001b[0;34m)\u001b[0m\u001b[0;34m)\u001b[0m\u001b[0;34m\u001b[0m\u001b[0;34m\u001b[0m\u001b[0m\n\u001b[0m",
            "\u001b[0;31mTypeError\u001b[0m: greet_02() missing 1 required positional argument: 'student_name'"
          ]
        }
      ],
      "source": [
        "# Below code will raise TypeError\n",
        "print(greet_02())"
      ]
    },
    {
      "cell_type": "code",
      "execution_count": null,
      "metadata": {
        "colab": {
          "base_uri": "https://localhost:8080/"
        },
        "id": "e12W-KVdLJbL",
        "outputId": "a478156c-c5a5-43d6-b116-3d4b498610eb"
      },
      "outputs": [
        {
          "name": "stdout",
          "output_type": "stream",
          "text": [
            "Hello Rehan\n"
          ]
        }
      ],
      "source": [
        "print(greet_02(\"Rehan\"))"
      ]
    },
    {
      "cell_type": "code",
      "execution_count": null,
      "metadata": {
        "colab": {
          "base_uri": "https://localhost:8080/"
        },
        "id": "FU1hpDMSL9UE",
        "outputId": "b993bad3-fa67-4998-eefc-fccb68968da5"
      },
      "outputs": [
        {
          "name": "stdout",
          "output_type": "stream",
          "text": [
            "Hello Usman\n"
          ]
        }
      ],
      "source": [
        "print(greet_02(\"Usman\"))"
      ]
    },
    {
      "cell_type": "code",
      "execution_count": null,
      "metadata": {
        "colab": {
          "base_uri": "https://localhost:8080/"
        },
        "id": "YvECA2naL_61",
        "outputId": "91a6b7e1-d5ec-48ac-ca54-cbabdf3969d0"
      },
      "outputs": [
        {
          "name": "stdout",
          "output_type": "stream",
          "text": [
            "Hello Mazhar\n"
          ]
        }
      ],
      "source": [
        "print(greet_02(\"Mazhar\"))"
      ]
    },
    {
      "cell_type": "markdown",
      "metadata": {
        "id": "G2nWZPzPWImx"
      },
      "source": [
        "## Loops in Python"
      ]
    },
    {
      "cell_type": "code",
      "execution_count": null,
      "metadata": {
        "colab": {
          "base_uri": "https://localhost:8080/"
        },
        "id": "B255cHz9PX6d",
        "outputId": "bbe69d3d-7442-4b3a-f3d9-c07a82c7b512"
      },
      "outputs": [
        {
          "name": "stdout",
          "output_type": "stream",
          "text": [
            "Hello! Rehan You invited on dinner\n",
            "Hello! Usman You invited on dinner\n",
            "Hello! Musa You invited on dinner\n"
          ]
        }
      ],
      "source": [
        "friends = [\"Rehan\", \"Usman\", \"Musa\"]\n",
        "\n",
        "print(f\"Hello! {friends[0]} You invited on dinner\")\n",
        "print(f\"Hello! {friends[1]} You invited on dinner\")\n",
        "print(f\"Hello! {friends[2]} You invited on dinner\")"
      ]
    },
    {
      "cell_type": "code",
      "execution_count": null,
      "metadata": {
        "id": "fKJYBZ9YQVHP"
      },
      "outputs": [],
      "source": [
        "print(f\"Hello! {friends} You invited on dinner\")"
      ]
    },
    {
      "cell_type": "markdown",
      "metadata": {
        "id": "-epwAhpTQkYj"
      },
      "source": [
        "- for loop\n",
        "- while loop"
      ]
    },
    {
      "cell_type": "markdown",
      "metadata": {
        "id": "F6ooyhjMWLFp"
      },
      "source": [
        "### `for` loop in python"
      ]
    },
    {
      "cell_type": "code",
      "execution_count": null,
      "metadata": {
        "colab": {
          "base_uri": "https://localhost:8080/"
        },
        "id": "ZU-Y6LfeQqo1",
        "outputId": "d49dec8e-7848-4b8f-ccda-0e4d34d0d8bf"
      },
      "outputs": [
        {
          "name": "stdout",
          "output_type": "stream",
          "text": [
            "Hello! Rehan You are invited on dinner\n",
            "Hello! Usman You are invited on dinner\n",
            "Hello! Musa You are invited on dinner\n"
          ]
        }
      ],
      "source": [
        "friends = [\"Rehan\", \"Usman\", \"Musa\"] # iterable -- iterations --> cycles\n",
        "\n",
        "for friend in friends:\n",
        "\n",
        "    print(f\"Hello! {friend} You are invited on dinner\")"
      ]
    },
    {
      "cell_type": "markdown",
      "metadata": {
        "id": "Vn7Qlaf0SSW1"
      },
      "source": [
        "- range()\n",
        "- enumerate()"
      ]
    },
    {
      "cell_type": "markdown",
      "metadata": {
        "id": "7N7Yt41WWTVw"
      },
      "source": [
        "### `for` loop with slicing"
      ]
    },
    {
      "cell_type": "code",
      "execution_count": null,
      "metadata": {
        "colab": {
          "base_uri": "https://localhost:8080/"
        },
        "id": "tu0Tw8LsSNN-",
        "outputId": "facbeaf1-5605-4871-ac69-7909fa0e19d4"
      },
      "outputs": [
        {
          "name": "stdout",
          "output_type": "stream",
          "text": [
            "Hello! Rehan You are invited on dinner\n",
            "Hello! Usman You are invited on dinner\n",
            "Hello! Musa You are invited on dinner\n"
          ]
        }
      ],
      "source": [
        "friends = [\"Rehan\", \"Usman\", \"Musa\", \"Hadia\", \"Wania\", \"Mazhar\", \"Ibtisam\"] # iterable -- iterations --> cycles\n",
        "\n",
        "for friend in friends[0:3]:\n",
        "    print(f\"Hello! {friend} You are invited on dinner\")"
      ]
    },
    {
      "cell_type": "markdown",
      "metadata": {
        "id": "nhvoWV7eWYL2"
      },
      "source": [
        "### `range` function in python"
      ]
    },
    {
      "cell_type": "code",
      "execution_count": null,
      "metadata": {
        "colab": {
          "base_uri": "https://localhost:8080/"
        },
        "id": "NU9vGPNTTXNO",
        "outputId": "71639167-7c96-4f82-ee1c-8e5a925576ad"
      },
      "outputs": [
        {
          "name": "stdout",
          "output_type": "stream",
          "text": [
            "1\n",
            "2\n",
            "3\n",
            "4\n",
            "5\n",
            "6\n",
            "7\n",
            "8\n",
            "9\n",
            "10\n"
          ]
        }
      ],
      "source": [
        "# range(st_pt, end_pt, step)\n",
        "# range(1,11)\n",
        "\n",
        "for i in range(1,11):\n",
        "    print(i)"
      ]
    },
    {
      "cell_type": "code",
      "execution_count": null,
      "metadata": {
        "colab": {
          "base_uri": "https://localhost:8080/"
        },
        "id": "sl-wjGXmT9oJ",
        "outputId": "35bfe0f9-d15e-4efb-806f-0f3c1569f537"
      },
      "outputs": [
        {
          "data": {
            "text/plain": [
              "[1, 3, 5, 7, 9]"
            ]
          },
          "execution_count": 40,
          "metadata": {},
          "output_type": "execute_result"
        }
      ],
      "source": [
        "list(range(1,11,2))"
      ]
    },
    {
      "cell_type": "code",
      "execution_count": null,
      "metadata": {
        "colab": {
          "base_uri": "https://localhost:8080/"
        },
        "id": "-ZCBCIaGV2fR",
        "outputId": "005c56d1-6c44-409e-a830-c85138866e8e"
      },
      "outputs": [
        {
          "name": "stdout",
          "output_type": "stream",
          "text": [
            "Rehan\n",
            "Rehan\n",
            "Rehan\n",
            "Rehan\n",
            "Rehan\n",
            "Rehan\n",
            "Rehan\n",
            "Rehan\n",
            "Rehan\n",
            "Rehan\n"
          ]
        }
      ],
      "source": [
        "for i in range(1,11):\n",
        "    print(\"Rehan\")"
      ]
    },
    {
      "cell_type": "markdown",
      "metadata": {
        "id": "IP8qAxxNWdJE"
      },
      "source": [
        "### `enumerate` function"
      ]
    },
    {
      "cell_type": "code",
      "execution_count": null,
      "metadata": {
        "colab": {
          "base_uri": "https://localhost:8080/"
        },
        "id": "y_aCsRqyWjs3",
        "outputId": "5d380c7d-879f-4602-9dc0-3baa5ccfb84a"
      },
      "outputs": [
        {
          "name": "stdout",
          "output_type": "stream",
          "text": [
            "(0, 'Rehan')\n",
            "(1, 'Usman')\n",
            "(2, 'Musa')\n"
          ]
        }
      ],
      "source": [
        "result = enumerate(friends)\n",
        "print(next(result))\n",
        "print(next(result))\n",
        "print(next(result))\n",
        "\n"
      ]
    },
    {
      "cell_type": "code",
      "execution_count": null,
      "metadata": {
        "colab": {
          "base_uri": "https://localhost:8080/"
        },
        "id": "4-mdyPq6WWOe",
        "outputId": "ea41a05c-f210-4efd-a1b7-bdb2818d52e1"
      },
      "outputs": [
        {
          "name": "stdout",
          "output_type": "stream",
          "text": [
            "(0, 'Rehan')\n",
            "<class 'tuple'>\n",
            "(1, 'Usman')\n",
            "<class 'tuple'>\n",
            "(2, 'Musa')\n",
            "<class 'tuple'>\n",
            "(3, 'Hadia')\n",
            "<class 'tuple'>\n",
            "(4, 'Wania')\n",
            "<class 'tuple'>\n",
            "(5, 'Mazhar')\n",
            "<class 'tuple'>\n",
            "(6, 'Ibtisam')\n",
            "<class 'tuple'>\n"
          ]
        }
      ],
      "source": [
        "friends = [\"Rehan\", \"Usman\", \"Musa\", \"Hadia\", \"Wania\", \"Mazhar\", \"Ibtisam\"]\n",
        "\n",
        "for value in enumerate(friends):\n",
        "    print(value)\n",
        "    print(type(value))"
      ]
    },
    {
      "cell_type": "markdown",
      "metadata": {
        "id": "ui4srv3rWjjq"
      },
      "source": [
        "#### tuple unpacking - Shall be used in `for` loop"
      ]
    },
    {
      "cell_type": "code",
      "execution_count": null,
      "metadata": {
        "colab": {
          "base_uri": "https://localhost:8080/"
        },
        "id": "NXi4q1bEXfzH",
        "outputId": "838fe16f-2b64-425f-e98c-e95827486f6a"
      },
      "outputs": [
        {
          "name": "stdout",
          "output_type": "stream",
          "text": [
            "0\n",
            "Rehan\n"
          ]
        }
      ],
      "source": [
        "# tuple unpacking\n",
        "# named_tuple = (0, \"Rehan\")\n",
        "# first_value = named_tuple[0]\n",
        "# second_value = named_tuple[1]\n",
        "\n",
        "i, name = (0, \"Rehan\")\n",
        "print(i)\n",
        "print(name)"
      ]
    },
    {
      "cell_type": "code",
      "execution_count": null,
      "metadata": {
        "colab": {
          "base_uri": "https://localhost:8080/"
        },
        "id": "anpKx_uLXdNS",
        "outputId": "e65b4831-eba5-45bf-9723-c92abfd62aa2"
      },
      "outputs": [
        {
          "name": "stdout",
          "output_type": "stream",
          "text": [
            "Index is 0 for value: Rehan\n",
            "Index is 1 for value: Usman\n",
            "Index is 2 for value: Musa\n",
            "Index is 3 for value: Hadia\n",
            "Index is 4 for value: Wania\n",
            "Index is 5 for value: Mazhar\n",
            "Index is 6 for value: Ibtisam\n"
          ]
        }
      ],
      "source": [
        "friends = [\"Rehan\", \"Usman\", \"Musa\", \"Hadia\", \"Wania\", \"Mazhar\", \"Ibtisam\"]\n",
        "\n",
        "for i, name in enumerate(friends):\n",
        "    print(f\"Index is {i} for value: {name}\")"
      ]
    },
    {
      "cell_type": "code",
      "execution_count": null,
      "metadata": {
        "colab": {
          "base_uri": "https://localhost:8080/"
        },
        "id": "5xGYO7l1ahlo",
        "outputId": "cf55ca2a-61f8-4036-af7d-a16ec1b5f4fe"
      },
      "outputs": [
        {
          "name": "stdout",
          "output_type": "stream",
          "text": [
            "Index is 0 for value: Rehan\n",
            "Index is 2 for value: Musa\n",
            "Index is 3 for value: Hadia\n",
            "Index is 4 for value: Wania\n",
            "Index is 5 for value: Mazhar\n",
            "Index is 6 for value: Ibtisam\n"
          ]
        }
      ],
      "source": [
        "friends = [\"Rehan\", \"Usman\", \"Musa\", \"Hadia\", \"Wania\", \"Mazhar\", \"Ibtisam\"]\n",
        "\n",
        "for i, name in enumerate(friends):\n",
        "    if name == \"Usman\":\n",
        "        continue\n",
        "    print(f\"Index is {i} for value: {name}\")"
      ]
    },
    {
      "cell_type": "code",
      "execution_count": null,
      "metadata": {
        "colab": {
          "base_uri": "https://localhost:8080/"
        },
        "id": "VFX0IQxfbDqG",
        "outputId": "ec823957-cd07-406d-e90c-3f082b78e893"
      },
      "outputs": [
        {
          "name": "stdout",
          "output_type": "stream",
          "text": [
            "Index is 0 for value: Rehan\n"
          ]
        }
      ],
      "source": [
        "friends = [\"Rehan\", \"Usman\", \"Musa\", \"Hadia\", \"Wania\", \"Mazhar\", \"Ibtisam\"]\n",
        "\n",
        "for i, name in enumerate(friends):\n",
        "    if name == \"Usman\":\n",
        "        break\n",
        "    print(f\"Index is {i} for value: {name}\")"
      ]
    },
    {
      "cell_type": "code",
      "execution_count": null,
      "metadata": {
        "colab": {
          "base_uri": "https://localhost:8080/"
        },
        "id": "Z8Mpmkavbbxl",
        "outputId": "d85ea4c6-0904-467d-a39e-52404abda678"
      },
      "outputs": [
        {
          "name": "stdout",
          "output_type": "stream",
          "text": [
            "Index is 0 for value: Rehan\n",
            "Index is 1 for value: Usman\n",
            "Index is 2 for value: Musa\n"
          ]
        }
      ],
      "source": [
        "friends = [\"Rehan\", \"Usman\", \"Musa\", \"Hadia\", \"Wania\", \"Mazhar\", \"Ibtisam\"]\n",
        "\n",
        "for i, name in enumerate(friends):\n",
        "    if i == 3:\n",
        "        break\n",
        "    print(f\"Index is {i} for value: {name}\")"
      ]
    },
    {
      "cell_type": "code",
      "execution_count": null,
      "metadata": {
        "colab": {
          "base_uri": "https://localhost:8080/"
        },
        "id": "mPOGMIaLbtyD",
        "outputId": "2f9641e6-2ba6-45c1-f9f0-e85c2d87a9d9"
      },
      "outputs": [
        {
          "name": "stdout",
          "output_type": "stream",
          "text": [
            "Index is 0 for value: Rehan\n",
            "Index is 1 for value: Usman\n",
            "Index is 2 for value: Musa\n"
          ]
        }
      ],
      "source": [
        "friends = [\"Rehan\", \"Usman\", \"Musa\", \"Hadia\", \"Wania\", \"Mazhar\", \"Ibtisam\"]\n",
        "\n",
        "for i in range(0,len(friends)):\n",
        "    if i == 3:\n",
        "        break\n",
        "    print(f\"Index is {i} for value: {friends[i]}\")"
      ]
    },
    {
      "cell_type": "markdown",
      "metadata": {
        "id": "1uP5Xxf6WrYU"
      },
      "source": [
        "### `while` loop in python"
      ]
    },
    {
      "cell_type": "code",
      "execution_count": null,
      "metadata": {
        "id": "J94raaS_dlsq"
      },
      "outputs": [],
      "source": [
        "# while (\"you have peanuts\"):\n",
        "#     \"keep eating\""
      ]
    },
    {
      "cell_type": "code",
      "execution_count": null,
      "metadata": {
        "colab": {
          "base_uri": "https://localhost:8080/"
        },
        "id": "zV_KiGSBd7Pr",
        "outputId": "9d9823de-3fd5-4059-a142-cc35076f4006"
      },
      "outputs": [
        {
          "name": "stdout",
          "output_type": "stream",
          "text": [
            "Count is: 0\n",
            "Count is: 1\n",
            "Count is: 2\n",
            "Count is: 3\n",
            "Count is: 4\n"
          ]
        }
      ],
      "source": [
        "count = 0\n",
        "while count < 5:\n",
        "    print(\"Count is:\", count)\n",
        "    count += 1"
      ]
    },
    {
      "cell_type": "code",
      "execution_count": null,
      "metadata": {
        "colab": {
          "base_uri": "https://localhost:8080/"
        },
        "id": "CNkCPATZeX_u",
        "outputId": "caa7ee62-cb7c-48e3-c18f-70b064d55a93"
      },
      "outputs": [
        {
          "name": "stdout",
          "output_type": "stream",
          "text": [
            "Re-enter the password: sdfdf\n",
            "Re-enter the password: 1234\n",
            "Re-enter the password: 454657\n",
            "Re-enter the password: 23435\n",
            "Re-enter the password: Pass123\n",
            "Access granted\n"
          ]
        }
      ],
      "source": [
        "password = \"\"\n",
        "while password != \"Pass123\":\n",
        "    password = input(\"Re-enter the password: \")\n",
        "\n",
        "print(\"Access granted\")"
      ]
    },
    {
      "cell_type": "code",
      "execution_count": null,
      "metadata": {
        "colab": {
          "base_uri": "https://localhost:8080/"
        },
        "id": "EsSo0iJ-e-HF",
        "outputId": "7a3bee43-4de1-4997-ad20-95abc9240404"
      },
      "outputs": [
        {
          "name": "stdout",
          "output_type": "stream",
          "text": [
            "Enter your name: usman\n",
            "Keep running\n",
            "Enter your name: mazhar\n",
            "Keep running\n",
            "Enter your name: rehan\n",
            "Keep running\n",
            "Enter your name: musa\n",
            "Keep running\n",
            "Enter your name: Rehan\n"
          ]
        }
      ],
      "source": [
        "while True:\n",
        "    name = input(\"Enter your name: \")\n",
        "    if name == \"Rehan\":\n",
        "        break\n",
        "    print(\"Keep running\")"
      ]
    },
    {
      "cell_type": "markdown",
      "metadata": {
        "id": "mMZ1kKHjfm3o"
      },
      "source": [
        "## Assignment\n",
        "Write a program for \"Guess the number\" game.\n",
        "\n",
        "`import random`\n",
        "\n",
        "`number = random.randint(1,5)`\n",
        "\n",
        "or\n",
        "\n",
        "`from random import randint`\n",
        "\n",
        "`number = randint(1,5)`\n"
      ]
    }
  ],
  "metadata": {
    "colab": {
      "provenance": []
    },
    "kernelspec": {
      "display_name": "Python 3",
      "name": "python3"
    },
    "language_info": {
      "name": "python"
    }
  },
  "nbformat": 4,
  "nbformat_minor": 0
}
